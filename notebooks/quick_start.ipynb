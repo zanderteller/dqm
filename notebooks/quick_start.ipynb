{
 "cells": [
  {
   "cell_type": "markdown",
   "id": "8c706520-961b-45be-b32c-25ce3c4507d8",
   "metadata": {
    "tags": []
   },
   "source": [
    "# Quick Start\n",
    "## for Dynamic Quantum Mapping (DQM)\n",
    "\n",
    "Dynamic Quantum Mapping (DQM) is a unique system designed for exploring and understanding the intrinsic structure of high-dimensional numerical data. DQM works on any given data set by creating a high-dimensional data-density map and then moving data points toward nearby regions of higher data density. No assumptions are made about the underlying structure of the data. Visual and numerical analysis of the resulting animated 'evolution' of the data can reveal both clusters and extended structures, leading to a rich understanding of relationships between and within different subsets of the data.\n",
    "\n",
    "This quick-start guide will introduce DQM using a very simple example data set. The example set is simple enough to understand entirely *without* DQM, making it easier to develop your understanding of what DQM is doing and how to interpret DQM results.\n",
    "\n",
    "(*Note: there's also another demo notebook, using DQM on real data, in `notebooks/demo_real_data_1.ipynb` in the DQM repository.*)"
   ]
  },
  {
   "cell_type": "markdown",
   "id": "336bd972-6cf4-4fd2-b196-3bf89259e557",
   "metadata": {
    "tags": []
   },
   "source": [
    "## First, make sure the 'dqm' package is in your PYTHONPATH\n",
    "\n",
    "(*See the __[full installation instructions](https://dqm.readthedocs.io/en/latest/installation.html)__ if you need them.*)\n",
    "\n",
    "If it isn't already, you can uncomment the code below and edit as needed to make sure that the 'dqm' package is in your PYTHONPATH."
   ]
  },
  {
   "cell_type": "code",
   "execution_count": null,
   "id": "5dda0c5a-09b2-4b6d-bab6-9d46e60a4a54",
   "metadata": {
    "tags": []
   },
   "outputs": [],
   "source": [
    "# Note: you need the parent folder of the Python 'dqm' folder in the PYTHONPATH. The 'dqm_repository' folder below\n",
    "# is the outer folder, containing the README file, etc.\n",
    "\n",
    "#import os, sys\n",
    "#sys.path.append(os.path.join(os.path.expanduser('~'), 'dqm_repository'))"
   ]
  },
  {
   "cell_type": "markdown",
   "id": "23bf8591-1967-49a0-823c-6e42a3ed48b5",
   "metadata": {
    "tags": []
   },
   "source": [
    "## Import what we need"
   ]
  },
  {
   "cell_type": "code",
   "execution_count": null,
   "id": "310c4db7-f2bd-489f-b5d8-1190c3e2c932",
   "metadata": {
    "tags": []
   },
   "outputs": [],
   "source": [
    "import numpy as np\n",
    "from dqm import DQM, plot_frames, smooth_frames, get_clusters\n",
    "\n",
    "# import PyPlot for some basic plotting\n",
    "try:\n",
    "    import matplotlib.pyplot as plt\n",
    "    HAVE_PLT = True\n",
    "except:\n",
    "    HAVE_PLT = False\n",
    "print('Have PyPlot:', HAVE_PLT)"
   ]
  },
  {
   "cell_type": "markdown",
   "id": "19135568-948a-4bfc-849d-17ce8519d9a8",
   "metadata": {
    "tags": []
   },
   "source": [
    "## Create the example data set\n",
    "\n",
    "The set will have 400 data points in 20 dimensions.\n",
    "\n",
    "There will be 4 spherical clusters of 100 points each, grouped as pairs in 2 'superclusters'."
   ]
  },
  {
   "cell_type": "code",
   "execution_count": null,
   "id": "b1249890",
   "metadata": {
    "tags": []
   },
   "outputs": [],
   "source": [
    "def random_points_in_sphere(num_points, num_dims, radius, rand_seed=0):\n",
    "    # generate random points within a high-dimensional sphere\n",
    "    rng = np.random.default_rng(rand_seed)\n",
    "    points = rng.uniform(low=-1, high=1, size=(num_points, num_dims))\n",
    "    # for each point, pick a random value between 0 and radius, skewed toward the maximum value (radius)\n",
    "    for row_idx in range(num_points):\n",
    "        r = radius * (rng.random() ** 0.5)\n",
    "        row = points[row_idx, :]\n",
    "        points[row_idx, :] = r * row / np.linalg.norm(row)  # normalize the row, then multiply by r\n",
    "    # end for each point/row\n",
    "    return points\n",
    "# end function random_points_in_sphere\n",
    "\n",
    "### build the data set\n",
    "\n",
    "# set parameters\n",
    "num_points_per_cluster = 100\n",
    "num_dims = 20\n",
    "cluster_radius= 4\n",
    "super_sep = 8  # separation between superclusters\n",
    "sub_sep = 5  # separation of clusters within superclusters\n",
    "\n",
    "# create 4 spherical clusters\n",
    "cluster0 = random_points_in_sphere(num_points_per_cluster, num_dims, cluster_radius, rand_seed=0)\n",
    "cluster1 = random_points_in_sphere(num_points_per_cluster, num_dims, cluster_radius, rand_seed=1)\n",
    "cluster2 = random_points_in_sphere(num_points_per_cluster, num_dims, cluster_radius, rand_seed=2)\n",
    "cluster3 = random_points_in_sphere(num_points_per_cluster, num_dims, cluster_radius, rand_seed=3)\n",
    "\n",
    "rng = np.random.default_rng(17)\n",
    "\n",
    "# create 2 superclusters by pushing clusters 0 and 1 in a random direction away from the origin and\n",
    "# pushing clusters 2 and 3 in the opposite direction\n",
    "dir = rng.uniform(low=-1, high=1, size=num_dims)\n",
    "dir /= np.linalg.norm(dir)  # normalize\n",
    "cluster0 += dir * super_sep / 2\n",
    "cluster1 += dir * super_sep / 2\n",
    "cluster2 -= dir * super_sep / 2\n",
    "cluster3 -= dir * super_sep / 2\n",
    "\n",
    "# separate clusters within 1st supercluster\n",
    "dir = rng.uniform(low=-1, high=1, size=num_dims)\n",
    "dir /= np.linalg.norm(dir)  # normalize\n",
    "cluster0 += dir * sub_sep / 2\n",
    "cluster1 -= dir * sub_sep / 2\n",
    "# separate clusters within 2nd supercluster\n",
    "dir = rng.uniform(low=-1, high=1, size=num_dims)\n",
    "dir /= np.linalg.norm(dir)  # normalize\n",
    "cluster2 += dir * sub_sep / 2\n",
    "cluster3 -= dir * sub_sep / 2\n",
    "\n",
    "# create the data set by catting all clusters together into single matrix\n",
    "dat = np.concatenate((cluster0, cluster1, cluster2, cluster3), axis=0)\n",
    "\n",
    "num_rows, num_cols = dat.shape\n",
    "print(f'Raw data has {num_rows} rows (points) and {num_cols} columns (dimensions)')"
   ]
  },
  {
   "cell_type": "markdown",
   "id": "b8c95889-2797-436b-a843-f4d4ac8e7fe3",
   "metadata": {
    "tags": []
   },
   "source": [
    "## Create a color scheme for the clusters and plot the first 3 raw dimensions\n",
    "\n",
    "Each row of the color matrix contains RGB data for the corresponding row in 'dat'.\n",
    "\n",
    "The __[`plot_frames`](https://dqm.readthedocs.io/en/latest/api.html#dqm.utils.plot_frames)__ function below uses the first 3 columns of the input matrix by default. (By construction of our example data set, plotting any 3 raw dimensions here will produce similar results.)\n",
    "\n",
    "The plot is interactive -- click and drag to rotate."
   ]
  },
  {
   "cell_type": "code",
   "execution_count": null,
   "id": "ace4b91a-4948-4286-b46d-2f3f0a256233",
   "metadata": {
    "tags": []
   },
   "outputs": [],
   "source": [
    "# create cluster color scheme\n",
    "cluster_colors = np.zeros((num_rows, 3))\n",
    "cluster_colors[:num_points_per_cluster, :] = np.array([1, 0, 0])  # cluster 0 is red\n",
    "cluster_colors[num_points_per_cluster:2*num_points_per_cluster, :] = np.array([0, 1, 0])  # cluster 1 is green\n",
    "cluster_colors[2*num_points_per_cluster:3*num_points_per_cluster, :] = np.array([0, 0, 1])  # cluster 2 is blue\n",
    "cluster_colors[3*num_points_per_cluster:4*num_points_per_cluster, :] = np.array([0.7, 0.7, 0.7])  # cluster 3 is gray\n",
    "\n",
    "# plot the first 3 columns of 'dat'\n",
    "plot_frames(dat, color=cluster_colors, title='Example Data Set: First 3 Raw Dimensions')"
   ]
  },
  {
   "cell_type": "markdown",
   "id": "da1c0236-07e5-4faa-9d90-a43162ebc8d1",
   "metadata": {
    "tags": []
   },
   "source": [
    "## Create a DQM instance and store the raw data"
   ]
  },
  {
   "cell_type": "code",
   "execution_count": null,
   "id": "d7e119b8-7361-4dc1-a224-b48bd8ce79bc",
   "metadata": {
    "tags": []
   },
   "outputs": [],
   "source": [
    "dqm_obj = DQM()\n",
    "dqm_obj.verbose = True  # default True\n",
    "dqm_obj.raw_data = dat\n",
    "\n",
    "print('Raw data stored in DQM instance has shape:', dqm_obj.raw_data.shape)"
   ]
  },
  {
   "cell_type": "markdown",
   "id": "b4561f98-4e87-4e14-ba05-a2795f9a0091",
   "metadata": {
    "tags": []
   },
   "source": [
    "## Run PCA (results are stored in the instance)\n",
    "\n",
    "*See the __[Wikipedia PCA page](https://en.wikipedia.org/wiki/Principal_component_analysis)__ for background on Principal Component Analysis.*\n",
    "\n",
    "PCA can be thought of as a simple rotation of the coordinate system for the data space; in the new PCA coordinate system, the 1st dimension has the greatest variance in the data, the 2nd dimension has the next greatest variance in the data, etc.\n",
    "\n",
    "DQM does not require a PCA transformation, but using PCA is almost always helpful, for two reasons:\n",
    "1. PCA is useful for 'gentle' dimensionality reduction. Here, in the two leftmost plots below, the 'elbows' in the plots suggest that using the first 4 PCA dimensions will capture the most important structure in the data. (We'll use more than 4 dimensions below, to emphasize that DQM typically works in high dimension.)\n",
    "1. Visualization of the first 3 dimensions of the PCA coordinate system allows us to pack as much information as possible into a single 3D plot.\n",
    "\n",
    "Understanding the plots (left to right):\n",
    "* Plot 1: PCA eigenvalues are normalized by dividing all of them by the first (largest) one. Note that PCA eigenvalues are proportional to the variance of the data in each PCA dimension.\n",
    "* Plot 2: Log10 of the normalized PCA eigenvalues from Plot 1. (In some cases, this plot may be more useful than Plot 1.)\n",
    "* Plot 3: Proportion of cumulative variance in the data for the first $n$ PCA dimensions. This plot is just the (renormalized) cumulative sum of the PCA eigenvalues (from Plot 1)."
   ]
  },
  {
   "cell_type": "code",
   "execution_count": null,
   "id": "86390db3-bcb2-45d1-9c60-eb74b66ca842",
   "metadata": {
    "tags": []
   },
   "outputs": [],
   "source": [
    "dqm_obj.run_pca()"
   ]
  },
  {
   "cell_type": "markdown",
   "id": "efea4420-2c4d-4fcb-bac0-bf0dbe429591",
   "metadata": {
    "tags": []
   },
   "source": [
    "## Choose how many PCA dimensions to use and create frame 0\n",
    "\n",
    "The DQM instance allows us to choose a number of PCA dimensions either:\n",
    "* explicitly (using `pca_num_dims`), or\n",
    "* by setting a threshold for minimum cumulative variance in the data (using `pca_var_threshold`)\n",
    "\n",
    "Here (below), we use `pca_var_threshold`. The instance reports that the threshold of 98% of the total variance is satisfied by using the first 18 PCA dimensions.\n",
    "\n",
    "The __[`create_frame_0`](https://dqm.readthedocs.io/en/latest/api.html#dqm.DQM.create_frame_0)__ method below actually creates the first frame and stores it in the instance.\n",
    "\n",
    "Creating frame 0 means:\n",
    "* rotating to the PCA coodinate system\n",
    "* Truncating ('projecting') simply by dropping the PCA dimensions that we've chosen not to use.\n",
    "\n",
    "(Note: if `pca_transform` is set to false, frame 0 will just be a copy of the raw data.)"
   ]
  },
  {
   "cell_type": "code",
   "execution_count": null,
   "id": "4721fc50-62fd-4bfe-8a65-58ea12748fa7",
   "metadata": {
    "tags": []
   },
   "outputs": [],
   "source": [
    "# choose an explicit number of dimensions (takes precedence if not None)\n",
    "# dqm_obj.pca_num_dims = 18\n",
    "# OR...\n",
    "# choose a minimum proportion of total cumulative variance for the PCA dimensions to be used\n",
    "dqm_obj.pca_var_threshold = 0.98\n",
    "\n",
    "dqm_obj.pca_transform = True  # default True (if False, frame 0 will be a copy of the raw data)\n",
    "dqm_obj.create_frame_0()\n",
    "\n",
    "print()\n",
    "print(\"In the DQM instance, 'frames' (which now stores frame 0) has shape:\", dqm_obj.frames.shape)"
   ]
  },
  {
   "cell_type": "markdown",
   "id": "44cc9d07-d8b2-40c2-ab0c-d38da99bc484",
   "metadata": {
    "tags": []
   },
   "source": [
    "## Plot frame 0\n",
    "\n",
    "This time the first 3 dimensions are PCA dimensions, not raw dimensions, which is why the separation of the clusters has become clearer."
   ]
  },
  {
   "cell_type": "code",
   "execution_count": null,
   "id": "0c6c447a-1af0-4826-8b17-26ece82e609b",
   "metadata": {
    "tags": []
   },
   "outputs": [],
   "source": [
    "plot_frames(dqm_obj.frames, color=cluster_colors, title='Example Data Set: First 3 PCA Dimensions')"
   ]
  },
  {
   "cell_type": "markdown",
   "id": "3fb464bc-b329-442d-a493-f4761f019065",
   "metadata": {
    "tags": []
   },
   "source": [
    "## Choose a basis\n",
    "\n",
    "The 'basis' is a subset of data points that we choose. These basis points will be used to represent all other data points and will form the core of all DQM calculations. (*The word 'basis' here is referencing the idea from linear algebra; see the technical summary __[Understanding DQM](https://github.com/zanderteller/dqm/blob/main/docs/Understanding%20DQM.pdf)__ for the technical details.*)\n",
    "\n",
    "The size of the basis (i.e., the number of basis points) sets a 'resolution' for how much detail we can see in the landscape. A large basis is very computationally expensive (building frames is approximately $O(n^3)$), so in order to use DQM efficiently:\n",
    "* Start with a smaller basis as you begin exploring a data set.\n",
    "* Increase the basis size later when you need greater resolution.\n",
    "\n",
    "For the typical computing power available in today's computers, here is a (very approximate) way to think about basis size:\n",
    "* Small: up to 500 points\n",
    "* Medium: 500 to 1,000 points\n",
    "* Large: 1,000 or more points\n",
    "\n",
    "The __[`choose_basis_by_distance`](https://dqm.readthedocs.io/en/latest/api.html#dqm.DQM.choose_basis_by_distance)__ method below chooses the desired number of basis points to be as far away from each other as possible."
   ]
  },
  {
   "cell_type": "code",
   "execution_count": null,
   "id": "4944482e-0448-4f9d-8730-aa07da4cd6f2",
   "metadata": {
    "tags": []
   },
   "outputs": [],
   "source": [
    "basis_size = round(num_rows / 4)\n",
    "print(f'Using a basis size of {basis_size}')\n",
    "print()\n",
    "\n",
    "dqm_obj.basis_size = basis_size\n",
    "dqm_obj.choose_basis_by_distance()"
   ]
  },
  {
   "cell_type": "markdown",
   "id": "978e3c06-d2e6-4ca5-83f3-0659fb71285b",
   "metadata": {
    "tags": []
   },
   "source": [
    "## Plot frame 0 again, highlighting the basis rows in orange"
   ]
  },
  {
   "cell_type": "code",
   "execution_count": null,
   "id": "d8e14f01-6af4-4692-8370-57913b599b28",
   "metadata": {
    "tags": []
   },
   "outputs": [],
   "source": [
    "basis_colors = 0.8 * np.ones((num_rows, 3))  # light gray\n",
    "basis_colors[dqm_obj.basis_row_nums, :] = np.array([1, 0.6, 0])  # basis rows in orange\n",
    "\n",
    "basis_sizes = 7 * np.ones(num_rows)\n",
    "basis_sizes[dqm_obj.basis_row_nums] = 10  # make basis-row points bigger\n",
    "\n",
    "plot_frames(dqm_obj.frames, color=basis_colors, size=basis_sizes, title='Example Data Set: First 3 PCA Dimensions, Highlighting Basis Rows')"
   ]
  },
  {
   "cell_type": "markdown",
   "id": "4df5d1d7-2e5d-43c8-b3bc-5bb2b9e03ef2",
   "metadata": {
    "tags": []
   },
   "source": [
    "## Choose a minimum 'good' value of sigma, based on 'overlap' for non-basis points\n",
    "\n",
    "We introduce several key concepts here.\n",
    "\n",
    "**Sigma**\n",
    "\n",
    "When DQM builds a data-density map, the first step is to place a multidimensional Gaussian distribution around each data point. Sigma, the width of each Gaussian, is DQM's single main tunable parameter. There is only a single value for sigma -- whatever value is chosen, every Gaussian (around every data point) has that same width.\n",
    "\n",
    "The starting point for the overall DQM landscape is simply all the Gaussians added together.\n",
    "\n",
    "For any data set, the extremes are always the same:\n",
    "* for very small sigma, each point has its own 'well' in the landscape, and nothing will move -- there will be no evolution at all.\n",
    "* for very large sigma, all points will be within a single giant well and will immediately collapse together during evolution.\n",
    "\n",
    "The values of sigma in between the extremes are where we can learn interesting things about the structure of the data set.\n",
    "\n",
    "**Overlap**\n",
    "\n",
    "For any non-basis point, the 'overlap' of that point in the basis is a measure of how well the basis describes that point. For points far away from any basis point, the overlap will be small, which tells us that the chosen basis will not do a good job in modeling the behavior of that particular point.\n",
    "\n",
    "Overlap for a given data point is always between 0 and 1, with 1 being a perfect representation. (All basis points have overlap of 1 in the basis.)\n",
    "\n",
    "See the __[*DQM User Guide*](https://dqm.readthedocs.io/en/latest/user_guide.html#choosing-a-basis)__ for more about basis overlap. (*For full technical details, see the section on \"Reconstruction of Wave Functions in the Eigenbasis\" in the technical summary __[Understanding DQM](https://github.com/zanderteller/dqm/blob/main/docs/Understanding%20DQM.pdf)__.*)\n",
    "\n",
    "**Minimum 'Good' Sigma**\n",
    "\n",
    "The ability of a set of basis points to describe non-basis points depends on sigma. For a fixed set of basis points and non-basis points, the basis will describe the non-basis points more and more accurately as sigma get bigger. This gives us a way to find a \"minimum good value\" of sigma that will adequately model the non-basis points in the data set.\n",
    "\n",
    "The __[`choose_sigma_for_basis`](https://dqm.readthedocs.io/en/latest/api.html#dqm.DQM.choose_sigma_for_basis)__ method below searches for the smallest value of sigma that satisfies the thresholds for minimum and mean overlap values for non-basis points."
   ]
  },
  {
   "cell_type": "code",
   "execution_count": null,
   "id": "22cfd368-c5e0-42ec-8f11-664871e025c6",
   "metadata": {
    "tags": []
   },
   "outputs": [],
   "source": [
    "dqm_obj.overlap_min_threshold = 0.5  # default 0.5\n",
    "dqm_obj.overlap_mean_threshold = 0.9  # default 0.9\n",
    "\n",
    "dqm_obj.choose_sigma_for_basis()\n",
    "\n",
    "print()\n",
    "print('The DQM instance now has a stored value of sigma:', dqm_obj.sigma)"
   ]
  },
  {
   "cell_type": "markdown",
   "id": "b6469156-3e05-4ef5-b20c-79fb347730c9",
   "metadata": {
    "tags": []
   },
   "source": [
    "## Look at distribution of overlaps for non-basis rows\n",
    "\n",
    "By default, the __[`build_overlaps`](https://dqm.readthedocs.io/en/latest/api.html#dqm.DQM.build_overlaps)__ method builds and returns basis overlaps for all non-basis rows."
   ]
  },
  {
   "cell_type": "code",
   "execution_count": null,
   "id": "444f9c00-ace5-4e84-be97-38623cd78473",
   "metadata": {
    "tags": []
   },
   "outputs": [],
   "source": [
    "# by default, the 'build_overlaps' method builds overlaps for all non-basis points in the raw data\n",
    "overlaps = dqm_obj.build_overlaps()\n",
    "\n",
    "print('for sigma {:.4f}, non-basis overlaps have min {:.3f}, mean {:.3f}, median {:.3f}, max {:.3f}'.\\\n",
    "      format(dqm_obj.sigma, np.min(overlaps), np.mean(overlaps), np.median(overlaps), np.max(overlaps)))\n",
    "print()\n",
    "\n",
    "if HAVE_PLT:\n",
    "    plt.hist(overlaps, bins=50)\n",
    "    plt.xlabel('overlap')\n",
    "    plt.ylabel('count')\n",
    "    plt.title('Histogram of Basis Overlaps for Non-Basis Points')\n",
    "    plt.show()\n",
    "else:\n",
    "    print(\"oops -- we don't have PyPlot for plotting...\")"
   ]
  },
  {
   "cell_type": "markdown",
   "id": "9e925ed4-0daa-4ce0-ac4f-e70cb661b7ca",
   "metadata": {
    "tags": []
   },
   "source": [
    "## Build the operators\n",
    "\n",
    "The __[`build_operators`](https://dqm.readthedocs.io/en/latest/api.html#dqm.DQM.build_operators)__ method below builds and stores the operator matrices needed to run the DQM evolution.\n",
    "\n",
    "The operators depend on the raw data, the choice of basis, and the DQM parameters (sigma, mass, and step).\n",
    "\n",
    "*DQM has 3 main parameters: sigma, mass, and step. Mass and step are both for advanced use only; we don't worry about them here.*\n",
    "\n",
    "See the __[*DQM User Guide*](https://dqm.readthedocs.io/en/latest/user_guide.html#building-operators)__ and the technical summary __[*Understanding DQM*](https://github.com/zanderteller/dqm/blob/main/docs/Understanding%20DQM.pdf)__ for more about the DQM operators."
   ]
  },
  {
   "cell_type": "code",
   "execution_count": null,
   "id": "7e9728bd-7a05-43a6-86d9-db690ec5a8c4",
   "metadata": {
    "tags": []
   },
   "outputs": [],
   "source": [
    "dqm_obj.build_operators()\n",
    "\n",
    "print()\n",
    "print(\"'simt': the transpose of the 'similarity' matrix (for conversion of state vectors from raw basis to eigenbasis) has shape:\", dqm_obj.simt.shape)\n",
    "print(\"'xops': the position-expectation operator tensor has shape:\", dqm_obj.xops.shape)\n",
    "print(\"'exph': the evolution operator has shape:\", dqm_obj.exph.shape)"
   ]
  },
  {
   "cell_type": "markdown",
   "id": "46fc006f-125f-40b8-a125-0ef4566689f0",
   "metadata": {
    "tags": []
   },
   "source": [
    "## Build 50 frames and look at the evolution.\n",
    "\n",
    "We're ready to proceed with the DQM evolution.\n",
    "\n",
    "Let's start by building 50 frames, using the __[`build_frames`](https://dqm.readthedocs.io/en/latest/api.html#dqm.DQM.build_frames)__ method, and see what we see.\n",
    "\n",
    "The animation shows us that the evolution is not done yet at 50 frames, but it's clear that a few points are probably going to be left behind as outliers.\n",
    "\n",
    "Our next step (below) will be to increase sigma a bit, to get 'clean' formation of all 4 clusters."
   ]
  },
  {
   "cell_type": "code",
   "execution_count": null,
   "id": "23e42f7d-78ea-47f3-9319-ff5a90df61b3",
   "metadata": {
    "tags": []
   },
   "outputs": [],
   "source": [
    "dqm_obj.build_frames(50)\n",
    "\n",
    "print()\n",
    "print('dqm_obj.frames has shape:', dqm_obj.frames.shape)\n",
    "print()\n",
    "\n",
    "plot_frames(dqm_obj.frames, color=cluster_colors, title='Example Data Set: Sigma=2.5')"
   ]
  },
  {
   "cell_type": "markdown",
   "id": "7eea1568-6993-4d70-9f00-73d6a4dd09f6",
   "metadata": {
    "tags": []
   },
   "source": [
    "## Show clean formation of 4 clusters in the DQM evolution\n",
    "\n",
    "The first 50 frames above suggested that some outliers would not be pulled in to the clusters, but we can fix that by increasing sigma.\n",
    "\n",
    "Here's what we need to do:\n",
    "* clear the frames we built (for safety, DQM will complain if you try to change the operators when you've already built frames of the evolution)\n",
    "* increase sigma\n",
    "* rebuild the operators\n",
    "* run the whole evolution, by calling the __[`build_frames_auto`](https://dqm.readthedocs.io/en/latest/api.html#dqm.DQM.build_frames_auto)__ method (which builds frames in batches until all points have stopped moving)"
   ]
  },
  {
   "cell_type": "code",
   "execution_count": null,
   "id": "4595b2e5-014d-4c8c-9240-14bae40f2603",
   "metadata": {},
   "outputs": [],
   "source": [
    "dqm_obj.verbose = False  # make output a little cleaner\n",
    "\n",
    "dqm_obj.clear_frames()  # this keeps frame 0 by default\n",
    "\n",
    "dqm_obj.sigma = 2.9\n",
    "dqm_obj.build_operators()\n",
    "dqm_obj.build_frames_auto()\n",
    "\n",
    "print(\"shape of 'frames' in the DQM instance is now:\", dqm_obj.frames.shape)\n",
    "\n",
    "plot_frames(dqm_obj.frames, color=cluster_colors, title='Example Data Set: Sigma=2.9')"
   ]
  },
  {
   "cell_type": "markdown",
   "id": "dd4c6426-29a7-474a-8cd6-308f6e51a050",
   "metadata": {
    "tags": []
   },
   "source": [
    "## Show clean formation of 2 superclusters\n",
    "\n",
    "Increasing sigma further will emphasize the 2 superclusters in the data set.\n",
    "\n",
    "**Important things to notice about the evolution below:**\n",
    "* **We have 2 superclusters by the end, but the 4 individual clusters are still clearly evident during the evolution: in each supercluster, the 2 clusters approach the final location from opposite directions.**\n",
    "* **The clusters form linear structures as they approach the supercluster center. The original spherical nature of the individual clusters is lost, but the linear structures contain information about which points were originally closer to or farther from the supercluster center.**\n",
    "\n",
    "These observations are just a first taste of how the DQM evolution (not just the final state) can yield insights into the structure of the data."
   ]
  },
  {
   "cell_type": "code",
   "execution_count": null,
   "id": "fba29cc9-e5b6-4560-8ee6-6d7914a5c9e8",
   "metadata": {
    "tags": []
   },
   "outputs": [],
   "source": [
    "dqm_obj.verbose = False  # make output a little cleaner\n",
    "\n",
    "dqm_obj.clear_frames()\n",
    "\n",
    "dqm_obj.sigma = 3.9\n",
    "dqm_obj.build_operators()\n",
    "dqm_obj.build_frames_auto()\n",
    "\n",
    "print(\"shape of 'frames' in the DQM instance is now:\", dqm_obj.frames.shape)\n",
    "print()\n",
    "\n",
    "# Note: the 'skip_frames=3' argument means only every 3rd frame is plotted. When dealing\n",
    "# with a large number of frames, this can keep the plotting routine from getting too slow.\n",
    "plot_frames(dqm_obj.frames, color=cluster_colors, skip_frames=3, title='Example Data Set: Sigma=3.9')"
   ]
  },
  {
   "cell_type": "markdown",
   "id": "e55e41cd-4cb0-473c-a5f3-e4b444a5fb4c",
   "metadata": {
    "tags": []
   },
   "source": [
    "## Using the stopping threshold and smoothing frames\n",
    "\n",
    "In the plot above, the evolution is really over by frame 400. (Things are still moving, very slowly, for the last 400 frames).\n",
    "\n",
    "This is not a horrible state of affairs, but DQM does provide 2 fixes for this problem:\n",
    "1. You can increase the value of the `dqm_obj.stopping_threshold` instance variable before building frames. (A point is considered to have stopped if it moves less then `stopping_threshold` distance from one frame to the next.) It's usually set automatically, to `mean_row_distance` / 1e6. Increasing it will cause points to stop sooner.\n",
    "1. The __[`smooth_frames`](https://dqm.readthedocs.io/en/latest/api.html#dqm.utils.smooth_frames)__ function below creates a new set of frames, interpolated from the input frames, designed to target a constant average speed of moving points throughout the evolution."
   ]
  },
  {
   "cell_type": "code",
   "execution_count": null,
   "id": "17f5ca48-98a3-40d4-bee5-f222b0cd57ef",
   "metadata": {},
   "outputs": [],
   "source": [
    "plot_frames(smooth_frames(dqm_obj.frames), color=cluster_colors, title='Example Data Set: Sigma=3.9, Smoothed Frames')"
   ]
  },
  {
   "cell_type": "markdown",
   "id": "2fedae41-c0b1-4c21-bed3-e6f367d2ee04",
   "metadata": {
    "tags": []
   },
   "source": [
    "## Using `get_clusters`\n",
    "\n",
    "The __[`get_clusters`](https://dqm.readthedocs.io/en/latest/api.html#dqm.utils.get_clusters)__ function returns groups of rows that are near each other. A group can be 'near each other' in various ways, for instance in a very long chain. The logic in __[`get_clusters`](https://dqm.readthedocs.io/en/latest/api.html#dqm.utils.get_clusters)__ is somewhat like a simplified version of __[DBSCAN](https://en.wikipedia.org/wiki/DBSCAN)__. (*See the __[`get_clusters`](https://dqm.readthedocs.io/en/latest/api.html#dqm.utils.get_clusters)__ documentation for more details.*)\n",
    "\n",
    "Here (below) we extract:\n",
    "* the row numbers for the 4 individual clusters from frame 30\n",
    "* the row numbers for the 2 superclusters from the last frame\n",
    "\n",
    "Note: for extracting the 4 individual clusters from frame 30, the value for the `max_dist` parameter of __[`get_clusters`](https://dqm.readthedocs.io/en/latest/api.html#dqm.utils.get_clusters)__ (dividing the mean row distance by 8) had to be tweaked rather carefully. This is another good example of the power of visualizing the DQM evolution, which let us know that separating the 4 individual clusters around frame 30 would even be possible."
   ]
  },
  {
   "cell_type": "code",
   "execution_count": null,
   "id": "f1a4241e-7ddb-414c-85f1-f47a79d4b3c9",
   "metadata": {},
   "outputs": [],
   "source": [
    "# use frame 30 to extract the 4 individual clusters\n",
    "cluster_row_nums, cluster_sizes = get_clusters(dqm_obj.frames[:, :, 30], dqm_obj.mean_row_distance / 8)\n",
    "print('Found these cluster sizes:', cluster_sizes)\n",
    "\n",
    "print()\n",
    "\n",
    "# use last frame to extract the 2 superclusters\n",
    "supercluster_row_nums, supercluster_sizes = get_clusters(dqm_obj.frames[:, :, -1], dqm_obj.mean_row_distance / 1000)\n",
    "print('Found these supercluster sizes:', supercluster_sizes)"
   ]
  },
  {
   "cell_type": "markdown",
   "id": "595fc647-f8ed-44d0-9443-a01f97c27ca4",
   "metadata": {},
   "source": [
    "## Using the `run_simple` method\n",
    "\n",
    "The __[`run_simple`](https://dqm.readthedocs.io/en/latest/api.html#dqm.DQM.run_simple)__ method is indeed very simple -- in fact, here's the code in its entirety:\n",
    "\n",
    "```python\n",
    "def run_simple(self, dat_raw, sigma):\n",
    "    self.raw_data = dat_raw\n",
    "    self.sigma = sigma\n",
    "\n",
    "    self.create_frame_0()\n",
    "    self.build_operators()\n",
    "    self.build_frames_auto()\n",
    "# end method run_simple\n",
    "```\n",
    "\n",
    "Here (below) we'll use the __[`run_simple`](https://dqm.readthedocs.io/en/latest/api.html#dqm.DQM.run_simple)__ method to verify that we can, in a new DQM map, separate the 2 clusters in supercluster 1.\n",
    "\n",
    "Be aware of the default behavior of __[`run_simple`](https://dqm.readthedocs.io/en/latest/api.html#dqm.DQM.run_simple)__ (unless you change settings in the instance before you call the method):\n",
    "* It does a PCA transformation and keeps all PCA dimensions.\n",
    "* It uses a 'full' basis (all data points are in the basis)."
   ]
  },
  {
   "cell_type": "code",
   "execution_count": null,
   "id": "4aa88b57-6bee-4c38-806a-2a5c7208bbb5",
   "metadata": {},
   "outputs": [],
   "source": [
    "# get row numbers for the first supercluster\n",
    "row_nums = supercluster_row_nums[0]\n",
    "\n",
    "# subselect data and color matrices\n",
    "sc1_dat = dat[row_nums, :]\n",
    "sc1_cluster_colors = cluster_colors[row_nums, :]\n",
    "\n",
    "# build a new DQM map, just for supercluster 1, setting sigma to separate the individual clusters\n",
    "sc1_dqm_obj = DQM()\n",
    "sc1_dqm_obj.verbose = False\n",
    "sc1_dqm_obj.run_simple(sc1_dat, sigma=2)\n",
    "\n",
    "print('sc1_dqm_obj.frames has shape:', sc1_dqm_obj.frames.shape)\n",
    "print()\n",
    "\n",
    "plot_frames(sc1_dqm_obj.frames, color=sc1_cluster_colors, title='Example Data Set: Supercluster 1, Sigma=2.0')"
   ]
  },
  {
   "cell_type": "markdown",
   "id": "9e75db55-d45e-48af-b900-990a60484315",
   "metadata": {
    "tags": []
   },
   "source": [
    "## Further Reading\n",
    "\n",
    "You've now seen the most important core elements in DQM's operation and some of the key aspects of interpreting DQM results. Go forth and explore!\n",
    "\n",
    "For more information, see:\n",
    "* the **Demo: Real Data #1** notebook (in `notebooks/demo_real_data_1.ipynb` in the DQM repository)\n",
    "* the __[*DQM User Guide*](https://dqm.readthedocs.io/en/latest/user_guide.html)__\n",
    "* the technical summary __[*Understanding DQM*](https://github.com/zanderteller/dqm/blob/main/docs/Understanding%20DQM.pdf)__"
   ]
  },
  {
   "cell_type": "code",
   "execution_count": null,
   "id": "746df55b-7cd0-4e28-abb5-2e3d22110fc5",
   "metadata": {},
   "outputs": [],
   "source": []
  },
  {
   "cell_type": "code",
   "execution_count": null,
   "id": "41da635d",
   "metadata": {},
   "outputs": [],
   "source": []
  },
  {
   "cell_type": "code",
   "execution_count": null,
   "id": "425d8d1c-1768-4054-a92c-9023dc2ff500",
   "metadata": {},
   "outputs": [],
   "source": []
  },
  {
   "cell_type": "code",
   "execution_count": null,
   "id": "5ee623a7-d22b-4722-a342-e356807958d7",
   "metadata": {},
   "outputs": [],
   "source": []
  }
 ],
 "metadata": {
  "kernelspec": {
   "display_name": "Python 3 (ipykernel)",
   "language": "python",
   "name": "python3"
  },
  "language_info": {
   "codemirror_mode": {
    "name": "ipython",
    "version": 3
   },
   "file_extension": ".py",
   "mimetype": "text/x-python",
   "name": "python",
   "nbconvert_exporter": "python",
   "pygments_lexer": "ipython3",
   "version": "3.12.5"
  }
 },
 "nbformat": 4,
 "nbformat_minor": 5
}
