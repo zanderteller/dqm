{
 "cells": [
  {
   "cell_type": "markdown",
   "id": "61dfe913-6ccb-4010-bf6c-7be10f55b7dc",
   "metadata": {},
   "source": [
    "# Demo: Real Data #1\n",
    "## for Dynamic Quantum Mapping (DQM)\n",
    "\n",
    "This notebook shows an example of working with DQM on real data.\n",
    "\n",
    "The (anonymized) data set is __[RNA-Seq](https://en.wikipedia.org/wiki/RNA-Seq)__ data from human blood samples, each from a different person. The data set has 186 samples and 20,443 dimensions. Each dimension is a measure of expression level in the blood for a single gene.\n",
    "\n",
    "There are 4 'cohorts' (groups) in the metadata. The cohorts are real, but we won't define them further here. (Pick your meaning of choice: they could be 4 different hospitals, 4 different demographics, 4 different diseases, etc.)"
   ]
  },
  {
   "cell_type": "markdown",
   "id": "a59c425d-e716-4ec8-9618-e4e4508cf134",
   "metadata": {},
   "source": [
    "## First, make sure the 'dqm' package is in your PYTHONPATH\n",
    "\n",
    "(*See the __[full installation instructions](https://dqm.readthedocs.io/en/latest/installation.html)__ if you need them.*)\n",
    "\n",
    "If it isn't already, you can uncomment the code below and edit as needed to make sure that the 'dqm' package is in your PYTHONPATH."
   ]
  },
  {
   "cell_type": "code",
   "execution_count": null,
   "id": "a76adaf2-5a74-4b83-b0e5-13697e3f0608",
   "metadata": {
    "tags": []
   },
   "outputs": [],
   "source": [
    "# Note: you need the parent folder of the Python 'dqm' folder in the PYTHONPATH. The 'dqm_repository' folder below\n",
    "# is the outer folder, containing the README file, etc.\n",
    "\n",
    "#import os, sys\n",
    "#sys.path.append(os.path.join(os.path.expanduser('~'), 'dqm_repository'))"
   ]
  },
  {
   "cell_type": "markdown",
   "id": "3087b9fb-df09-4406-9fd8-f899c676aba6",
   "metadata": {},
   "source": [
    "## Import what we need"
   ]
  },
  {
   "cell_type": "code",
   "execution_count": null,
   "id": "70211614-8c41-4cae-88a4-b2cdc9b8eb72",
   "metadata": {
    "tags": []
   },
   "outputs": [],
   "source": [
    "import numpy as np\n",
    "from dqm import DQM, plot_frames, smooth_frames, get_clusters\n",
    "import os\n",
    "\n",
    "# import PyPlot for some basic plotting\n",
    "try:\n",
    "    import matplotlib.pyplot as plt\n",
    "    HAVE_PLT = True\n",
    "except:\n",
    "    HAVE_PLT = False\n",
    "print('Have PyPlot:', HAVE_PLT)"
   ]
  },
  {
   "cell_type": "markdown",
   "id": "b1a9f10c-a074-4765-a32c-b2cd42322bc1",
   "metadata": {},
   "source": [
    "## Load the data set\n",
    "\n",
    "Note that the data matrix has 186 rows (samples) and 20,443 columns (dimensions)."
   ]
  },
  {
   "cell_type": "code",
   "execution_count": null,
   "id": "bb939a09-47f9-46fe-ba69-8fe31cd6e5c5",
   "metadata": {
    "tags": []
   },
   "outputs": [],
   "source": [
    "# load data and metadata from disk\n",
    "loaded = np.load(os.path.join('data', 'demo_real_data_1.npz'))\n",
    "dat = loaded['dat']\n",
    "cohorts = loaded['cohorts']\n",
    "\n",
    "num_rows, num_cols = dat.shape\n",
    "print('Data matrix has {:,} rows (points/samples) and {:,} columns (dimensions)'.format(num_rows, num_cols))\n",
    "print(\"Metadata 'cohorts' vector has {:,} entries\".format(cohorts.size))"
   ]
  },
  {
   "cell_type": "markdown",
   "id": "54517cb6-68df-41fd-8d31-b44a5e9f36bc",
   "metadata": {},
   "source": [
    "## Look at the distributions of data and metadata\n",
    "\n",
    "Data: a log2 transformation has already been applied.\n",
    "\n",
    "Metadata: there are 4 'cohorts' (groups), with unequal sample sizes."
   ]
  },
  {
   "cell_type": "code",
   "execution_count": null,
   "id": "694a7aff-91dd-4106-8e6b-a628abb52e59",
   "metadata": {
    "tags": []
   },
   "outputs": [],
   "source": [
    "# look at data distribution\n",
    "if HAVE_PLT:\n",
    "    plt.hist(dat.flatten(), bins=100)\n",
    "    plt.xlabel('log2 of expression level')\n",
    "    plt.ylabel('count')\n",
    "    plt.title('Histogram: Log2 of Raw Data')\n",
    "    plt.show()\n",
    "else:\n",
    "    print(\"oops -- we don't have PyPlot for plotting...\")\n",
    "\n",
    "print()\n",
    "\n",
    "# look at metadata distribution\n",
    "print('Metadata distribution')\n",
    "print('---------------------')\n",
    "unique, counts = np.unique(cohorts, return_counts=True)\n",
    "for idx in range(unique.size):\n",
    "    print('cohort {} has {} samples'.format(unique[idx], counts[idx]))"
   ]
  },
  {
   "cell_type": "markdown",
   "id": "a1bc954d-7e37-4734-b335-a0d944cdef6e",
   "metadata": {},
   "source": [
    "## Create a DQM instance and store the raw data"
   ]
  },
  {
   "cell_type": "code",
   "execution_count": null,
   "id": "d0b9895a-1be9-4f22-b409-4fea151640c5",
   "metadata": {
    "tags": []
   },
   "outputs": [],
   "source": [
    "dqm_obj = DQM()\n",
    "dqm_obj.verbose = True  # default True\n",
    "dqm_obj.raw_data = dat\n",
    "\n",
    "print('Raw data stored in DQM instance has shape:', dqm_obj.raw_data.shape)"
   ]
  },
  {
   "cell_type": "markdown",
   "id": "b53b23bb-0fa3-44d0-80f5-a49ee13f5add",
   "metadata": {
    "tags": []
   },
   "source": [
    "## Choose how many PCA dimensions to use and create frame 0\n",
    "\n",
    "Based on the 'elbows' in the two leftmost PCA plots, we choose to work with the first 50 PCA dimensions. The __[`create_frame_0`](https://dqm.readthedocs.io/en/latest/api.html#dqm.DQM.create_frame_0)__ method reports that those dimensions capture 82.2% of the total variance in the data (as also seen in the rightmost PCA plot).\n",
    "\n",
    "(*You can ignore warnings from PCA about negative values and unnormalized vectors at the machine-precision level. Those warnings may be suppressed altogether at some point...*)"
   ]
  },
  {
   "cell_type": "code",
   "execution_count": null,
   "id": "c7af36d9-6a49-42f5-af02-ef1d982617ce",
   "metadata": {
    "tags": []
   },
   "outputs": [],
   "source": [
    "dqm_obj.run_pca()\n",
    "dqm_obj.pca_num_dims = 50\n",
    "dqm_obj.create_frame_0()\n",
    "\n",
    "print()\n",
    "print(\"In the DQM instance, 'frames' (which now stores frame 0) has shape:\", dqm_obj.frames.shape)"
   ]
  },
  {
   "cell_type": "markdown",
   "id": "67736757-580f-40ed-b120-2594f64b9ecd",
   "metadata": {},
   "source": [
    "## Create a cohort color scheme and plot frame 0\n",
    "\n",
    "Cohort color scheme\n",
    "* 1 = Orange\n",
    "* 2 = Black\n",
    "* 3 = Blue\n",
    "* 4 = Red\n",
    "\n",
    "Remember that __[`plot_frames`](https://dqm.readthedocs.io/en/latest/api.html#dqm.utils.plot_frames)__ uses the first 3 columns in the 2nd dimension by default, so we're looking at the first 3 PCA dimensions.\n",
    "\n",
    "Observations from frame 0:\n",
    "1. There are already hints that blue (cohort 3) and red (cohort 4) may be more separable, from the other cohorts and from each other, than orange (cohort 1) and black (cohort 2)."
   ]
  },
  {
   "cell_type": "code",
   "execution_count": null,
   "id": "1c51da3c-73be-4130-8e15-7be26c47c91c",
   "metadata": {
    "tags": []
   },
   "outputs": [],
   "source": [
    "# create cohort color scheme\n",
    "cohort_colors = np.zeros((num_rows, 3))\n",
    "cohort_colors[cohorts == 1] = np.array([1, 0.65, 0])  # orange\n",
    "cohort_colors[cohorts == 2] = np.array([0, 0, 0])  # black\n",
    "cohort_colors[cohorts == 3] = np.array([0, 0, 1])  # blue\n",
    "cohort_colors[cohorts == 4] = np.array([1, 0, 0])  # red\n",
    "\n",
    "plot_frames(dqm_obj.frames, color=cohort_colors, title='Real Data: First 3 PCA Dimensions, Colored by Cohort')"
   ]
  },
  {
   "cell_type": "markdown",
   "id": "7135d459-2ee1-44d4-aa5f-95af35d8c424",
   "metadata": {},
   "source": [
    "## Look at mean distance between rows\n",
    "\n",
    "... to get a sense of scale for 'reasonable' values of sigma."
   ]
  },
  {
   "cell_type": "code",
   "execution_count": null,
   "id": "3c18280b-0a05-4826-922a-5532e663aaf9",
   "metadata": {
    "tags": []
   },
   "outputs": [],
   "source": [
    "dqm_obj.estimate_mean_row_distance()"
   ]
  },
  {
   "cell_type": "markdown",
   "id": "d9f5ab16-9aa1-47c4-a67a-9fd198dea7c9",
   "metadata": {},
   "source": [
    "## Run DQM evolution with sigma = 29\n",
    "\n",
    "With only 186 points, we can use the default 'full' basis (using all points in the basis) and still explore multiple values of sigma fairly quickly.\n",
    "\n",
    "We settled on a value of sigma = 29 for our first look at the landscape. (You might try some other values as well, to see what changes.)\n",
    "\n",
    "Observations from this DQM evolution:\n",
    "1. As frame 0 hinted, blue (cohort 3) and red (cohort 4) are clearly (not perfectly) separable from the other cohorts.\n",
    "1. Red forms its own subcluster, which then joins the blue cluster after a pause, making clear that cohorts 3 and 4 are also clearly separable from each other. (*The pause is an example of a quantum 'tunneling' event: the red cluster moves very slowly through a barrier/hill in the landscape before joining the blue cluster.*)\n",
    "1. Red and blue together form a single linear structure (even though they're separable as distinct clusters), which may be of interest when other metadata fields are applied. **This is a good example of DQM helping with the question of how many models you need for your data -- or, alternately, which subset of your data to apply a model to. Here, a conventional regression algorithm may usefully be applied, but it's now clear that it should only be applied to cohorts 3 and 4.**\n",
    "1. Orange (cohort 1) and black (cohort 2) are clearly higher variance than the other cohorts, since they mostly remain as outliers at this value of sigma.\n",
    "1. Notice 3 blue points, next to the main group of red points, which join the blue cluster more quickly than the red points they seem to be right next to. Why do points that are near each other behave so differently? Because they're different in the higher dimensions that we can't see here. **This is a good example of how the animation allows us to see information from more than 3 dimensions in this 3D plot.**"
   ]
  },
  {
   "cell_type": "code",
   "execution_count": null,
   "id": "432b33f6-fb2b-4ce5-b8c3-d717ad1130f1",
   "metadata": {
    "tags": []
   },
   "outputs": [],
   "source": [
    "# run DQM evolution\n",
    "dqm_obj.sigma = 29\n",
    "dqm_obj.clear_frames()  # in case we run this block multiple times\n",
    "dqm_obj.build_operators()\n",
    "dqm_obj.build_frames_auto(500)\n",
    "\n",
    "print()\n",
    "\n",
    "# plot smoothed frames\n",
    "frames = smooth_frames(dqm_obj.frames)\n",
    "plot_frames(frames, color=cohort_colors, width=800, height=800,\n",
    "            title='Real Data: {} DQM Dims, Sigma={:.1f}'.format(dqm_obj.pca_num_dims, dqm_obj.sigma))"
   ]
  },
  {
   "cell_type": "markdown",
   "id": "8e15621d-d006-455e-9db4-81ff12ad022f",
   "metadata": {},
   "source": [
    "## Extract distinct blue and red clusters from smoothed frame 45\n",
    "\n",
    "Clusters are returned from __[`get_clusters`](https://dqm.readthedocs.io/en/latest/api.html#dqm.utils.get_clusters)__ in decreasing order of size.\n",
    "\n",
    "Cohort freqencies in the 3 biggest clusters (biggest first) are:\n",
    "* Cluster 0: 27 blue, 7 red, 2 black\n",
    "* Cluster 1: 21 red\n",
    "* Cluster 2: 5 orange, 5 black"
   ]
  },
  {
   "cell_type": "code",
   "execution_count": null,
   "id": "6374f5aa-d8d0-4f27-8da2-c737881bcc7d",
   "metadata": {
    "tags": []
   },
   "outputs": [],
   "source": [
    "# get clusters from smoothed frame 45\n",
    "clusters, cluster_sizes = get_clusters(frames[:, :, 45], dqm_obj.mean_row_distance / 100)\n",
    "\n",
    "# create helper function\n",
    "def report_cohort_frequencies(cohorts, row_nums):\n",
    "    unique, counts = np.unique(cohorts[row_nums], return_counts=True)\n",
    "    for idx in range(unique.size):\n",
    "        cohort = unique[idx]\n",
    "        print('cohort {}: {} (of {}) samples'.format(cohort, counts[idx], np.sum(cohorts == cohort)))\n",
    "# end function report_cohort_frequencies\n",
    "\n",
    "# report on cohort frequencies for the 3 biggest clusters\n",
    "for cluster_idx in range(3):\n",
    "    cluster = clusters[cluster_idx]\n",
    "    print(f'\\ncluster {cluster_idx} (n={len(cluster)})')\n",
    "    print('---------------------------')\n",
    "    report_cohort_frequencies(cohorts, cluster)"
   ]
  },
  {
   "cell_type": "markdown",
   "id": "2ad2850a-981e-48a2-9cc9-1b1af2d2c7f7",
   "metadata": {},
   "source": [
    "## Extract single blue/red cluster from the last smoothed frame\n",
    "\n",
    "Again, we'll look at the cohort frequencies in the 3 biggest clusters (biggest first):\n",
    "* Cluster 0: 27 blue, 29 red, 2 black\n",
    "* Cluster 1: 5 orange, 5 black\n",
    "* Cluster 2: 7 black"
   ]
  },
  {
   "cell_type": "code",
   "execution_count": null,
   "id": "b5072b36-e462-4f0e-b39f-49a803cdcea9",
   "metadata": {
    "tags": []
   },
   "outputs": [],
   "source": [
    "# get clusters from last smoothed frame\n",
    "clusters, cluster_sizes = get_clusters(frames[:, :, -1], dqm_obj.mean_row_distance / 100)\n",
    "\n",
    "# report on cohort frequencies for the 3 biggest clusters\n",
    "for cluster_idx in range(3):\n",
    "    cluster = clusters[cluster_idx]\n",
    "    print(f'\\ncluster {cluster_idx} (n={len(cluster)})')\n",
    "    print('---------------------------')\n",
    "    report_cohort_frequencies(cohorts, cluster)"
   ]
  },
  {
   "cell_type": "markdown",
   "id": "4064cac5-db73-42c6-b9c1-9cfcbdbe74ae",
   "metadata": {
    "tags": []
   },
   "source": [
    "## Build DQM map for cohorts 3 (blue) and 4 (red)\n",
    "\n",
    "Here we build a new DQM map for cohorts 3 and 4. (Depending on your context, you might choose instead to use the final cluster from the first DQM map, thus excluding a few outliers and including 2 points from cohort 2.)\n",
    "\n",
    "Based on the PCA plots, we choose to use the first 20 PCA dimensions.\n",
    "\n",
    "We choose a relatively large value of sigma, 32, which emphasizes the linear structure(s) in the data. (*The largest value of sigma that still separates blue and red is around 25. That sigma=25 map also shows that red points are somewhat higher variance than blue.*)\n",
    "\n",
    "Observations from this (sigma=32) DQM evolution (smoothed frames 60-80 show the structure most clearly):\n",
    "1. When observed in isolation like this, the linear structures for blue and red are *not* exactly colinear. The angle is small, though, so a regression applied to both cohorts together may still be useful.\n",
    "1. The linear structure is somewhat more extended for red than for blue."
   ]
  },
  {
   "cell_type": "code",
   "execution_count": null,
   "id": "31f2dc55-4db2-438e-80c8-5908f55e59c8",
   "metadata": {
    "tags": []
   },
   "outputs": [],
   "source": [
    "# subselect data and colors to cohorts 3 and 4\n",
    "row_nums34 = np.where(np.logical_or(cohorts == 3, cohorts == 4))[0]\n",
    "dat34 = dat[row_nums34, :]\n",
    "cohort_colors34 = cohort_colors[row_nums34, :]\n",
    "\n",
    "# set up DQM instance\n",
    "dqm_obj34 = DQM()\n",
    "dqm_obj34.raw_data = dat34\n",
    "\n",
    "# choose how many PCA dimensions to use, and create frame 0\n",
    "dqm_obj34.run_pca()\n",
    "dqm_obj34.pca_num_dims = 20\n",
    "dqm_obj34.create_frame_0()\n",
    "\n",
    "print()\n",
    "dqm_obj34.estimate_mean_row_distance()\n",
    "print()\n",
    "\n",
    "# run DQM evolution\n",
    "dqm_obj34.sigma = 32\n",
    "dqm_obj34.build_operators()\n",
    "dqm_obj34.build_frames_auto(500)\n",
    "\n",
    "# plot smoothed frames\n",
    "frames34 = smooth_frames(dqm_obj34.frames)\n",
    "plot_frames(frames34, color=cohort_colors34,\n",
    "            title='Real Data: Cohorts 3 & 4, {} DQM Dims, Sigma={:.1f}'.format(dqm_obj34.pca_num_dims, dqm_obj34.sigma))"
   ]
  },
  {
   "cell_type": "markdown",
   "id": "f49401f2-6e50-4727-b8c7-9c86d68706b0",
   "metadata": {
    "tags": []
   },
   "source": [
    "## Build DQM map for cohorts 1 (orange) and 2 (black)\n",
    "\n",
    "Here we build a new DQM map for cohorts 1 and 2. (Depending on your context, you might choose instead to use all points *not* in the final cluster from the first DQM map, thus including a few outliers from cohorts 3 and 4 and excluding 2 points from cohort 2.)\n",
    "\n",
    "Based on the PCA plots, we choose to use the first 30 PCA dimensions.\n",
    "\n",
    "We choose a value of 30 for sigma, giving us a landscape that shows us the most that we're likely to learn here about these cohorts, which is not all that much. (You might try some other values as well, to see what changes.)\n",
    "\n",
    "Observations from this DQM evolution:\n",
    "1. Some 1-D structures may be forming as the main cluster coalesces, but each one is based on only a few points. Overall, this map is much closer to an 'uninteresting' single cluster. (The 1-D structures are only likely to be interesting if other metadata fields show any of them to have a strong/clear relationship with the metadata.)\n",
    "1. It looks like orange and black are really not separable at all."
   ]
  },
  {
   "cell_type": "code",
   "execution_count": null,
   "id": "7a7e157d-4c21-4cce-9d60-408090980f5e",
   "metadata": {
    "tags": []
   },
   "outputs": [],
   "source": [
    "# subselect data and colors to cohorts 1 and 2\n",
    "row_nums12 = np.where(np.logical_or(cohorts == 1, cohorts == 2))[0]\n",
    "dat12 = dat[row_nums12, :]\n",
    "cohort_colors12 = cohort_colors[row_nums12, :]\n",
    "\n",
    "# set up DQM instance\n",
    "dqm_obj12 = DQM()\n",
    "dqm_obj12.raw_data = dat12\n",
    "\n",
    "# choose how many PCA dimensions to use, and create frame 0\n",
    "dqm_obj12.run_pca()\n",
    "dqm_obj12.pca_num_dims = 30\n",
    "dqm_obj12.create_frame_0()\n",
    "\n",
    "print()\n",
    "dqm_obj12.estimate_mean_row_distance()\n",
    "print()\n",
    "\n",
    "# run DQM evolution\n",
    "dqm_obj12.sigma = 30\n",
    "dqm_obj12.build_operators()\n",
    "dqm_obj12.build_frames_auto(500)\n",
    "\n",
    "# plot smoothed frames\n",
    "frames12 = smooth_frames(dqm_obj12.frames)\n",
    "plot_frames(frames12, color=cohort_colors12,\n",
    "            title='Real Data: Cohorts 1 & 2, {} DQM Dims, Sigma={:.1f}'.format(dqm_obj12.pca_num_dims, dqm_obj12.sigma))"
   ]
  },
  {
   "cell_type": "code",
   "execution_count": null,
   "id": "7a6a5366-a96c-49a4-a0a7-f2ce5327f4e1",
   "metadata": {},
   "outputs": [],
   "source": []
  },
  {
   "cell_type": "code",
   "execution_count": null,
   "id": "74597c5c",
   "metadata": {},
   "outputs": [],
   "source": []
  },
  {
   "cell_type": "code",
   "execution_count": null,
   "id": "180e953f",
   "metadata": {},
   "outputs": [],
   "source": []
  },
  {
   "cell_type": "code",
   "execution_count": null,
   "id": "a003a485",
   "metadata": {},
   "outputs": [],
   "source": []
  }
 ],
 "metadata": {
  "kernelspec": {
   "display_name": "Python 3 (ipykernel)",
   "language": "python",
   "name": "python3"
  },
  "language_info": {
   "codemirror_mode": {
    "name": "ipython",
    "version": 3
   },
   "file_extension": ".py",
   "mimetype": "text/x-python",
   "name": "python",
   "nbconvert_exporter": "python",
   "pygments_lexer": "ipython3",
   "version": "3.12.5"
  }
 },
 "nbformat": 4,
 "nbformat_minor": 5
}
